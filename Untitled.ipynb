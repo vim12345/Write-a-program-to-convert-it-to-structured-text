{
 "cells": [
  {
   "cell_type": "code",
   "execution_count": 7,
   "id": "69c8bf84-26af-4e3a-91f4-ae83b2a57dc2",
   "metadata": {},
   "outputs": [
    {
     "name": "stdout",
     "output_type": "stream",
     "text": [
      "Requirement already satisfied: pytesseract in c:\\users\\vk269\\anaconda3\\lib\\site-packages (0.3.13)\n",
      "Requirement already satisfied: pillow in c:\\users\\vk269\\anaconda3\\lib\\site-packages (10.3.0)\n",
      "Requirement already satisfied: packaging>=21.3 in c:\\users\\vk269\\anaconda3\\lib\\site-packages (from pytesseract) (23.2)\n"
     ]
    }
   ],
   "source": [
    "!pip install pytesseract pillow"
   ]
  },
  {
   "cell_type": "code",
   "execution_count": 9,
   "id": "13cea8c1-3879-4472-81f2-09cff7fca2c7",
   "metadata": {},
   "outputs": [
    {
     "name": "stdout",
     "output_type": "stream",
     "text": [
      "{\n",
      "    \"invoice\": {\n",
      "        \"header\": {\n",
      "            \"invoice_number\": \"Invoice Number AA888\",\n",
      "            \"date\": \"Shipping Date 09/01/2023\"\n",
      "        },\n",
      "        \"items\": [\n",
      "            \"rp Stark Industries\",\n",
      "            \"Bill of Landing BL123456\",\n",
      "            \"FROM\",\n",
      "            \"Stark Industries Ltd.\",\n",
      "            \"1147 Rohan Drive Suite 819 - Burlington,\",\n",
      "            \"VT / 82021\",\n",
      "            \"Phone: 904-966-2836\",\n",
      "            \"Invoice Details\",\n",
      "            \"Item Qty HS Code\",\n",
      "            \"Mahogany Table 10 pes MG6392\",\n",
      "            \"Total Account Charges\",\n",
      "            \"Payment Terms\",\n",
      "            \"Payment Transferrable to:\",\n",
      "            \"Stark Industries\",\n",
      "            \"Account Number: 49124104981\",\n",
      "            \"Bank Name: ABC Bank\",\n",
      "            \"SWIFT Code: SWIFTO00\",\n",
      "            \"Terms and Conditions\",\n",
      "            \"\\u00bb Please pay the balance by 01/02/2023.\",\n",
      "            \"SAMPLE\",\n",
      "            \"Commercial Invoice\",\n",
      "            \"Country of Origin United Kingdom\",\n",
      "            \"Country of Final Destination _ United States\",\n",
      "            \"Voyage Number CV123\",\n",
      "            \"TO\",\n",
      "            \"MetalTech\",\n",
      "            \"5678 Industrial Way,. Metropolis,\",\n",
      "            \"NY 10001\",\n",
      "            \"Phone: 985-282-2836\",\n",
      "            \"Description Total\",\n",
      "            \"Dark wood mahogany $5,000\",\n",
      "            \"$5000\",\n",
      "            \"Subtotal $5000\",\n",
      "            \"Tax (8%) $400\",\n",
      "            \"Amount Due $5400\",\n",
      "            \"(USD)\",\n",
      "            \"\\u00bb Please send your payment to Stark industries via Bank Transfer.\",\n",
      "            \"= This deposit is non-refundable as per our deposit agreement attached.\"\n",
      "        ],\n",
      "        \"total\": null\n",
      "    }\n",
      "}\n"
     ]
    }
   ],
   "source": [
    "from PIL import Image\n",
    "import pytesseract\n",
    "import json\n",
    "\n",
    "# Load the image\n",
    "image_path = 'commercial-invoice-sample.png'  # Change this to your image path\n",
    "image = Image.open(image_path)\n",
    "\n",
    "# Use pytesseract to extract text\n",
    "extracted_text = pytesseract.image_to_string(image)\n",
    "\n",
    "# Split the text into lines\n",
    "lines = extracted_text.split('\\n')\n",
    "\n",
    "# Create a structured dictionary\n",
    "structured_data = {\n",
    "    \"invoice\": {\n",
    "        \"header\": {},\n",
    "        \"items\": [],\n",
    "        \"total\": None\n",
    "    }\n",
    "}\n",
    "\n",
    "# You can modify the following lines to parse specific data\n",
    "for line in lines:\n",
    "    if \"Invoice Number\" in line:\n",
    "        structured_data[\"invoice\"][\"header\"][\"invoice_number\"] = line.split(\":\")[-1].strip()\n",
    "    elif \"Date\" in line:\n",
    "        structured_data[\"invoice\"][\"header\"][\"date\"] = line.split(\":\")[-1].strip()\n",
    "    # Add more fields as needed...\n",
    "    elif line.strip():  # Assuming non-empty lines are items\n",
    "        structured_data[\"invoice\"][\"items\"].append(line.strip())\n",
    "\n",
    "# Convert to JSON\n",
    "structured_json = json.dumps(structured_data, indent=4)\n",
    "\n",
    "# Print or save the structured JSON\n",
    "print(structured_json)\n"
   ]
  },
  {
   "cell_type": "code",
   "execution_count": null,
   "id": "2b3891e9-17f2-487e-acbf-bf99e3add653",
   "metadata": {},
   "outputs": [],
   "source": []
  }
 ],
 "metadata": {
  "kernelspec": {
   "display_name": "Python 3 (ipykernel)",
   "language": "python",
   "name": "python3"
  },
  "language_info": {
   "codemirror_mode": {
    "name": "ipython",
    "version": 3
   },
   "file_extension": ".py",
   "mimetype": "text/x-python",
   "name": "python",
   "nbconvert_exporter": "python",
   "pygments_lexer": "ipython3",
   "version": "3.12.5"
  }
 },
 "nbformat": 4,
 "nbformat_minor": 5
}
